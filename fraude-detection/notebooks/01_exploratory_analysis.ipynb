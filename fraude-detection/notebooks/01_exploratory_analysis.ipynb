{
 "cells": [
  {
   "cell_type": "markdown",
   "id": "e124866a",
   "metadata": {},
   "source": [
    "# Notebook: Crear estructura del proyecto fraud-detection\n",
    "\n",
    "Este notebook crea programáticamente la estructura de carpetas y archivos del proyecto `fraude-detection`. Ejecuta cada celda en orden."
   ]
  },
  {
   "cell_type": "code",
   "execution_count": null,
   "id": "854e0d46",
   "metadata": {},
   "outputs": [],
   "source": [
    "# 1) Importar librerías y definir la ruta raíz\n",
    "from pathlib import Path\n",
    "import os\n",
    "from pprint import pprint\n",
    "\n",
    "# Usar la ruta absoluta del proyecto fraud-detection dentro del workspace\n",
    "ROOT = Path(r'C:/dev/repos-deep-learning/fraude-detection').resolve()\n",
    "print('ROOT:', ROOT)"
   ]
  },
  {
   "cell_type": "code",
   "execution_count": null,
   "id": "b4e8b9f1",
   "metadata": {},
   "outputs": [],
   "source": [
    "# 2) Crear la estructura de carpetas con pathlib\n",
    "dirs = [\n",
    "    ROOT / 'config',\n",
    "    ROOT / 'data' / 'raw',\n",
    "    ROOT / 'data' / 'processed',\n",
    "    ROOT / 'src',\n",
    "    ROOT / 'src' / 'data',\n",
    "    ROOT / 'src' / 'models',\n",
    "    ROOT / 'src' / 'visualization',\n",
    "    ROOT / 'models',\n",
    "    ROOT / 'notebooks',\n",
    "    ROOT / 'reports' / 'figures',\n",
    "]\n",
    "for d in dirs:\n",
    "    d.mkdir(parents=True, exist_ok=True)\n",
    "print('Directorios creados o existentes:')\n",
    "pprint([str(d) for d in dirs])"
   ]
  },
  {
   "cell_type": "code",
   "execution_count": null,
   "id": "3d5fb20c",
   "metadata": {},
   "outputs": [],
   "source": [
    "# 3) Crear archivos __init__.py en src y subpaquetes\n",
    "init_files = [\n",
    "    ROOT / 'src' / '__init__.py',\n",
    "    ROOT / 'src' / 'data' / '__init__.py',\n",
    "    ROOT / 'src' / 'models' / '__init__.py',\n",
    "    ROOT / 'src' / 'visualization' / '__init__.py',\n",
    "]\n",
    "for f in init_files:\n",
    "    if not f.exists():\n",
    "        f.write_text('# Paquete Python: ' + f.parent.name + \"\\n\")\n",
    "print('Archivos __init__.py creados:')\n",
    "pprint([str(f) for f in init_files])"
   ]
  },
  {
   "cell_type": "code",
   "execution_count": null,
   "id": "526375f4",
   "metadata": {},
   "outputs": [],
   "source": [
    "# 4) Generar config/config.py con configuración base\n",
    "config_py = ROOT / 'config' / 'config.py'\n",
    "config_content = '''\"\"\"Configuración básica del proyecto fraud-detection\"\"\"\n",
    "from pathlib import Path\n",
    "\n",
    "BASE_DIR = Path(__file__).resolve().parent.parent\n",
    "DATA_DIR = BASE_DIR / 'data'\n",
    "RAW_DIR = DATA_DIR / 'raw'\n",
    "PROCESSED_DIR = DATA_DIR / 'processed'\n",
    "MODELS_DIR = BASE_DIR / 'models'\n",
    "\n",
    "# Ejemplo (comentado): cargar variables de entorno\n",
    "# from dotenv import load_dotenv\n",
    "# load_dotenv()\n",
    "'''\n",
    "if not config_py.exists():\n",
    "    config_py.write_text(config_content)\n",
    "print('Creado:', config_py)"
   ]
  },
  {
   "cell_type": "code",
   "execution_count": null,
   "id": "b4c820d5",
   "metadata": {},
   "outputs": [],
   "source": [
    "# 5) Crear archivos esqueleto para scripts (load, preprocess, train, evaluate, plots)\n",
    "files = {\n",
    "    'src/data/load.py': \"\"\"\"\"\"\"\"\"\"Carga de datos crudos\"\"\"\\nfrom pathlib import Path\\nimport pandas as pd\\n\\nfrom config.config import RAW_DIR\\n\\n\\ndef load_raw(path: Path | None = None) -> 'pd.DataFrame':\\n    path = Path(path) if path else RAW_DIR / 'creditcard.csv'\\n    return pd.read_csv(path)\\n\\nif __name__ == '__main__':\\n    df = load_raw()\\n    print(df.head())\\n\"\"\",\n",
    "    'src/data/preprocess.py': \"\"\"\"\"\"\"\"\"\"Preprocesamiento básico\"\"\"\\nimport pandas as pd\\n\\n\\ndef preprocess(df: 'pd.DataFrame') -> tuple:\\n    df = df.copy()\\n    if 'Class' in df.columns:\\n        y = df['Class']\\n        X = df.drop(columns=['Class'])\\n    else:\\n        X, y = df, None\\n    return X, y\\n\\nif __name__ == '__main__':\\n    import pandas as pd\\n    df = pd.DataFrame({'V1':[0], 'Class':[0]})\\n    print(preprocess(df))\\n\"\"\",\n",
    "    'src/models/train.py': \"\"\"\"\"\"\"\"\"\"Entrenamiento (esqueleto)\"\"\"\\nfrom typing import Any\\nimport joblib\\nimport os\\n\\ndef train_model(X: Any, y: Any, save_path: str | None = None):\\n    # placeholder\\n    print('Entrenando...')\\n    if save_path:\\n        joblib.dump({}, save_path)\\n\\nif __name__ == '__main__':\\n    train_model(None, None)\\n\"\"\",\n",
    "    'src/models/evaluate.py': \"\"\"\"\"\"\"\"\"\"Evaluación (esqueleto)\"\"\"\\nfrom typing import Any\\n\\ndef evaluate_model(model: Any, X: Any, y: Any):\\n    print('Evaluando...')\\n\\nif __name__ == '__main__':\\n    evaluate_model(None, None, None)\\n\"\"\",\n",
    "    'src/visualization/plots.py': \"\"\"\"\"\"\"\"\"\"Visualizaciones (esqueleto)\"\"\"\\nimport matplotlib.pyplot as plt\\n\\ndef plot_overview(df, output_path: str | None = None):\\n    fig = plt.figure()\\n    if output_path:\\n        fig.savefig(output_path)\\n    return fig\\n\\nif __name__ == '__main__':\\n    import pandas as pd\\n    df = pd.DataFrame({'Amount':[10,20,30]})\\n    plot_overview(df)\\n\"\"\",\n",
    "}\n",
    "for rel, content in files.items():\n",
    "    p = ROOT / rel\n",
    "    p.parent.mkdir(parents=True, exist_ok=True)\n",
    "    if not p.exists():\n",
    "        p.write_text(content)\n",
    "print('Archivos esqueleto creados:')\n",
    "pprint([str(ROOT / r) for r in files.keys()])"
   ]
  },
  {
   "cell_type": "code",
   "execution_count": null,
   "id": "ce23e7d3",
   "metadata": {},
   "outputs": [],
   "source": [
    "# 6) Crear models/, notebooks/ y notebook 01_exploratory_analysis.ipynb mínimo\n",
    "(ROOT / 'models').mkdir(exist_ok=True)\n",
    "(ROOT / 'models' / '.gitkeep').write_text('')\n",
    "(ROOT / 'notebooks').mkdir(exist_ok=True)\n",
    "# El notebook actual ya existe; la celda se limita a confirmar la creación\n",
    "print('models y notebooks creados')"
   ]
  },
  {
   "cell_type": "code",
   "execution_count": null,
   "id": "b5d76fd1",
   "metadata": {},
   "outputs": [],
   "source": [
    "# 7) Crear reports/figures/ y README.md en reports\n",
    "(ROOT / 'reports' / 'figures').mkdir(parents=True, exist_ok=True)\n",
    "readme = ROOT / 'reports' / 'README.md'\n",
    "if not readme.exists():\n",
    "    readme.write_text('# Reports\\nGuarda aquí las figuras y resultados del proyecto.')\n",
    "print('Reports creado:', readme)"
   ]
  },
  {
   "cell_type": "code",
   "execution_count": null,
   "id": "28367f82",
   "metadata": {},
   "outputs": [],
   "source": [
    "# 8) Crear requirements.txt y main.py con esqueleto ejecutable\n",
    "req = ROOT / 'requirements.txt'\n",
    "if not req.exists():\n",
    "    req.write_text('\\n'.join(['pandas','numpy','scikit-learn','matplotlib','joblib']))\n",
    "main_py = ROOT / 'main.py'\n",
    "if not main_py.exists():\n",
    "    main_py.write_text('''\"\"\"Main pipeline placeholder\"\"\"\\nfrom src.data.load import load_raw\\n\\ndef run_pipeline():\\n    print('Pipeline placeholder')\\n\\nif __name__ == '__main__':\\n    run_pipeline()\\n''')\n",
    "print('requirements.txt y main.py creados')"
   ]
  },
  {
   "cell_type": "code",
   "execution_count": null,
   "id": "406319df",
   "metadata": {},
   "outputs": [],
   "source": [
    "# 9) Verificar la estructura y listar archivos\n",
    "for p in sorted(ROOT.rglob('*')):\n",
    "    print(p.relative_to(ROOT))\n",
    "\n",
    "print('\\nProceso completado. Ejecuta las celdas en orden para crear la estructura.')"
   ]
  }
 ],
 "metadata": {
  "language_info": {
   "name": "python"
  }
 },
 "nbformat": 4,
 "nbformat_minor": 5
}
