{
 "cells": [
  {
   "cell_type": "markdown",
   "metadata": {},
   "source": "# Modelo de Predicción de Precios de Casas\n\nEste notebook implementa un modelo de **Regresión Lineal** para predecir precios de casas.\n\n## ¿Qué es la Regresión Lineal?\n\nLa Regresión Lineal es un algoritmo de Machine Learning supervisado que modela la relación entre:\n- **Variables independientes (features)**: Características de las casas (tamaño, habitaciones, baños, etc.)\n- **Variable dependiente (target)**: El precio de la casa\n\nLa fórmula general es:\n```\nPrecio = β₀ + β₁×feature₁ + β₂×feature₂ + ... + βₙ×featureₙ\n```\n\nDonde:\n- **β₀** (intercepto): Valor base del precio\n- **β₁, β₂, ..., βₙ** (coeficientes): Peso de cada característica en el precio final\n\n## Flujo de trabajo\n\n1. **Dividir datos**: Separar en entrenamiento (80%) y prueba (20%)\n2. **Entrenar modelo**: Ajustar el modelo con los datos de entrenamiento\n3. **Evaluar modelo**: Medir qué tan bien predice con datos de prueba\n4. **Guardar modelo**: Persistir el modelo para uso futuro\n5. **Hacer predicciones**: Usar el modelo para predecir precios de nuevas casas"
  },
  {
   "cell_type": "markdown",
   "metadata": {},
   "source": "## 1. Importar librerías\n\nImportamos todas las librerías necesarias para:\n- **numpy**: Cálculos numéricos\n- **pandas**: Manipulación de datos\n- **sklearn**: Algoritmos de Machine Learning\n- **pickle**: Guardar y cargar modelos entrenados"
  },
  {
   "cell_type": "code",
   "execution_count": 1,
   "metadata": {},
   "outputs": [],
   "source": [
    "import numpy as np\n",
    "import pandas as pd\n",
    "from sklearn.model_selection import train_test_split\n",
    "from sklearn.linear_model import LinearRegression\n",
    "from sklearn.metrics import mean_absolute_error, mean_squared_error, r2_score\n",
    "import pickle\n",
    "import sys\n",
    "import os\n",
    "\n",
    "# Añadir el directorio padre al path para poder importar config\n",
    "sys.path.append(os.path.dirname(os.path.dirname(os.path.abspath('__file__'))))\n",
    "from config import TEST_SIZE, RANDOM_STATE, MODEL_FILE"
   ]
  },
  {
   "cell_type": "markdown",
   "metadata": {},
   "source": "## 2. Función: División de datos\n\n### ¿Por qué dividir los datos?\n\nEs fundamental dividir el dataset en dos conjuntos:\n\n- **Conjunto de entrenamiento (80%)**: Para que el modelo aprenda los patrones\n- **Conjunto de prueba (20%)**: Para evaluar qué tan bien generaliza a datos nuevos\n\nSi evaluáramos con los mismos datos de entrenamiento, el modelo podría estar \"memorizando\" en lugar de \"aprendiendo\" (overfitting).\n\n### Parámetros importantes:\n- `test_size`: Proporción de datos para prueba (0.2 = 20%)\n- `random_state`: Semilla para reproducibilidad (siempre genera la misma división)"
  },
  {
   "cell_type": "code",
   "execution_count": 2,
   "metadata": {},
   "outputs": [],
   "source": [
    "def split_data(X, y):\n",
    "    \"\"\"Divide datos en entrenamiento y prueba\"\"\"\n",
    "    X_train, X_test, y_train, y_test = train_test_split(\n",
    "        X, y, test_size=TEST_SIZE, random_state=RANDOM_STATE\n",
    "    )\n",
    "    print(f\"\\n=== DIVISIÓN DE DATOS ===\")\n",
    "    print(f\"Entrenamiento: {X_train.shape[0]} casas\")\n",
    "    print(f\"Prueba: {X_test.shape[0]} casas\")\n",
    "    \n",
    "    return X_train, X_test, y_train, y_test"
   ]
  },
  {
   "cell_type": "markdown",
   "metadata": {},
   "source": "## 3. Función: Entrenamiento del modelo\n\n### ¿Qué hace esta función?\n\n1. **Crea el modelo**: Instancia un objeto LinearRegression()\n2. **Entrena (fit)**: El modelo ajusta sus coeficientes para minimizar el error\n3. **Muestra coeficientes**: Cada coeficiente indica cuánto impacta esa característica en el precio\n\n### Interpretación de coeficientes:\n\nPor ejemplo, si el coeficiente de `tamano_m2` es **1500**, significa:\n- Por cada metro cuadrado adicional, el precio aumenta $1,500\n\nSi el coeficiente de `edad_anos` es **-2000**, significa:\n- Por cada año de antigüedad, el precio disminuye $2,000\n\nEl **intercepto** es el precio base cuando todas las características son 0."
  },
  {
   "cell_type": "code",
   "execution_count": 3,
   "metadata": {},
   "outputs": [],
   "source": [
    "def train_model(X_train, y_train):\n",
    "    \"\"\"Entrena el modelo de Regresión Lineal\"\"\"\n",
    "    print(\"\\n=== ENTRENANDO MODELO ===\")\n",
    "    modelo = LinearRegression()\n",
    "    modelo.fit(X_train, y_train)\n",
    "    print(\"✓ Modelo entrenado exitosamente\")\n",
    "    \n",
    "    # Mostrar coeficientes\n",
    "    print(\"\\nCoeficientes aprendidos:\")\n",
    "    for feature, coef in zip(X_train.columns, modelo.coef_):\n",
    "        print(f\"  {feature}: {coef:.2f}\")\n",
    "    print(f\"\\nIntercepto: {modelo.intercept_:.2f}\")\n",
    "    \n",
    "    return modelo"
   ]
  },
  {
   "cell_type": "markdown",
   "metadata": {},
   "source": "## 4. Función: Evaluación del modelo\n\n### Métricas de evaluación\n\nEsta función calcula 3 métricas principales para medir la calidad del modelo:\n\n#### 1. **MAE (Mean Absolute Error)** - Error Absoluto Medio\n- Promedio de las diferencias absolutas entre valores reales y predichos\n- **Interpretación**: En promedio, el modelo se equivoca por $X\n- **Ejemplo**: MAE = $15,000 → en promedio, nos equivocamos por $15,000\n\n#### 2. **RMSE (Root Mean Squared Error)** - Raíz del Error Cuadrático Medio\n- Similar a MAE pero penaliza más los errores grandes\n- **Interpretación**: Desviación típica de los errores\n- Si RMSE >> MAE, hay algunos errores muy grandes (outliers)\n\n#### 3. **R² (Coeficiente de Determinación)**\n- Mide qué porcentaje de la variabilidad del precio es explicado por el modelo\n- **Rango**: 0 a 1 (0% a 100%)\n- **R² = 0.85** → El modelo explica el 85% de la variación en los precios\n- **R² = 0.50** → El modelo explica solo el 50% (modelo débil)\n- **R² = 0.95** → Excelente ajuste\n\n### Comparación Real vs Predicción\n\nLa función también muestra una tabla con:\n- **Real**: Precio real de la casa\n- **Predicción**: Precio predicho por el modelo\n- **Diferencia**: Qué tan lejos está la predicción del valor real"
  },
  {
   "cell_type": "code",
   "execution_count": 4,
   "metadata": {},
   "outputs": [],
   "source": [
    "def evaluate_model(modelo, X_test, y_test):\n",
    "    \"\"\"Evalúa el modelo con métricas\"\"\"\n",
    "    print(\"\\n=== EVALUACIÓN DEL MODELO ===\")\n",
    "    \n",
    "    y_pred = modelo.predict(X_test)\n",
    "    \n",
    "    mae = mean_absolute_error(y_test, y_pred)\n",
    "    mse = mean_squared_error(y_test, y_pred)\n",
    "    rmse = np.sqrt(mse)\n",
    "    r2 = r2_score(y_test, y_pred)\n",
    "    \n",
    "    print(f\"MAE: ${mae:,.2f}\")\n",
    "    print(f\"RMSE: ${rmse:,.2f}\")\n",
    "    print(f\"R²: {r2:.4f}\")\n",
    "    print(f\"\\nEl modelo explica el {r2*100:.2f}% de la variación en los precios\")\n",
    "    \n",
    "    # Comparación detallada\n",
    "    comparacion = pd.DataFrame({\n",
    "        'Real': y_test.values,\n",
    "        'Predicción': y_pred,\n",
    "        'Diferencia': y_test.values - y_pred\n",
    "    })\n",
    "    print(\"\\nComparación Real vs Predicción:\")\n",
    "    print(comparacion)\n",
    "    \n",
    "    return y_pred, {'mae': mae, 'rmse': rmse, 'r2': r2}"
   ]
  },
  {
   "cell_type": "markdown",
   "metadata": {},
   "source": "## 5. Función: Guardar modelo\n\n### ¿Por qué guardar el modelo?\n\nUna vez que entrenamos el modelo, queremos guardarlo para:\n- **Evitar re-entrenar**: No necesitamos entrenar de nuevo cada vez\n- **Producción**: Usar el modelo en una aplicación o API\n- **Compartir**: Otros pueden usar el modelo entrenado\n\n### Pickle\n\nUsamos la librería `pickle` de Python que serializa objetos:\n- Convierte el modelo en bytes\n- Lo guarda en un archivo `.pkl`\n- Puede ser cargado posteriormente con todos sus parámetros intactos"
  },
  {
   "cell_type": "code",
   "execution_count": 5,
   "metadata": {},
   "outputs": [],
   "source": [
    "def save_model(modelo):\n",
    "    \"\"\"Guarda el modelo entrenado\"\"\"\n",
    "    with open(MODEL_FILE, 'wb') as f:\n",
    "        pickle.dump(modelo, f)\n",
    "    print(f\"\\n✓ Modelo guardado en: {MODEL_FILE}\")"
   ]
  },
  {
   "cell_type": "markdown",
   "metadata": {},
   "source": "## 6. Función: Cargar modelo\n\n### ¿Cuándo cargar un modelo?\n\nCargamos un modelo guardado cuando:\n- Queremos hacer predicciones sin re-entrenar\n- Usamos el modelo en producción\n- Continuamos trabajando en una nueva sesión\n\nEl modelo cargado mantiene:\n- Todos los coeficientes aprendidos\n- El intercepto\n- La capacidad de hacer predicciones inmediatamente"
  },
  {
   "cell_type": "code",
   "execution_count": 6,
   "metadata": {},
   "outputs": [],
   "source": [
    "def load_model():\n",
    "    \"\"\"Carga el modelo guardado\"\"\"\n",
    "    with open(MODEL_FILE, 'rb') as f:\n",
    "        modelo = pickle.load(f)\n",
    "    print(f\"✓ Modelo cargado desde: {MODEL_FILE}\")\n",
    "    return modelo"
   ]
  },
  {
   "cell_type": "markdown",
   "metadata": {},
   "source": "## 7. Ejemplo de uso completo\n\n### Pipeline completo de Machine Learning\n\nA continuación se muestra el flujo típico de un proyecto de ML:\n\n1. **Cargar datos**: Leer el CSV con los datos de casas\n2. **Separar X e y**: \n   - X = características (features)\n   - y = variable objetivo (target/precio)\n3. **Dividir datos**: Train/Test split\n4. **Entrenar**: Ajustar el modelo con datos de entrenamiento\n5. **Evaluar**: Medir rendimiento con datos de prueba\n6. **Guardar**: Persistir el modelo para uso futuro\n\n**Nota**: Descomenta las líneas para ejecutar el pipeline completo con tus datos."
  },
  {
   "cell_type": "code",
   "execution_count": 7,
   "metadata": {},
   "outputs": [],
   "source": [
    "# Ejemplo: Cargar datos (descomentar y ajustar según tus datos)\n",
    "# from config import RAW_DATA_FILE, FEATURES, TARGET\n",
    "# df = pd.read_csv(RAW_DATA_FILE)\n",
    "# X = df[FEATURES]\n",
    "# y = df[TARGET]\n",
    "\n",
    "# Dividir datos\n",
    "# X_train, X_test, y_train, y_test = split_data(X, y)\n",
    "\n",
    "# Entrenar modelo\n",
    "# modelo = train_model(X_train, y_train)\n",
    "\n",
    "# Evaluar modelo\n",
    "# y_pred, metricas = evaluate_model(modelo, X_test, y_test)\n",
    "\n",
    "# Guardar modelo\n",
    "# save_model(modelo)\n",
    "\n",
    "# Cargar modelo (en otra sesión)\n",
    "# modelo_cargado = load_model()"
   ]
  },
  {
   "cell_type": "markdown",
   "metadata": {},
   "source": "## 8. Predicciones con el modelo\n\n### Hacer predicciones en producción\n\nUna vez que el modelo está entrenado y guardado, puedes usarlo para predecir precios de casas nuevas.\n\n### Paso a paso:\n\n1. **Crear un DataFrame** con las características de la nueva casa\n2. **Importante**: Debe tener las mismas columnas (en el mismo orden) que los datos de entrenamiento\n3. **Usar .predict()** para obtener el precio estimado\n\n### Ejemplo de interpretación:\n\nSi una casa tiene:\n- 150 m²\n- 3 habitaciones\n- 2 baños\n- 10 años de antigüedad\n- 5 km del centro\n\nEl modelo calculará: `Precio = intercepto + (1500 × 150) + (coef_hab × 3) + ...`\n\nY devolverá un precio estimado, por ejemplo: **$250,000**"
  },
  {
   "cell_type": "code",
   "execution_count": 8,
   "metadata": {},
   "outputs": [],
   "source": [
    "# Ejemplo de predicción para una nueva casa\n",
    "# nueva_casa = pd.DataFrame({\n",
    "#     'tamano_m2': [150],\n",
    "#     'habitaciones': [3],\n",
    "#     'banos': [2],\n",
    "#     'edad_anos': [10],\n",
    "#     'distancia_centro_km': [5]\n",
    "# })\n",
    "\n",
    "# precio_predicho = modelo.predict(nueva_casa)\n",
    "# print(f\"Precio predicho: ${precio_predicho[0]:,.2f}\")"
   ]
  }
 ],
 "metadata": {
  "kernelspec": {
   "display_name": "deep-learning",
   "language": "python",
   "name": "deep-learning"
  },
  "language_info": {
   "codemirror_mode": {
    "name": "ipython",
    "version": 3
   },
   "file_extension": ".py",
   "mimetype": "text/x-python",
   "name": "python",
   "nbconvert_exporter": "python",
   "pygments_lexer": "ipython3",
   "version": "3.13.5"
  }
 },
 "nbformat": 4,
 "nbformat_minor": 4
}