{
 "cells": [
  {
   "cell_type": "markdown",
   "metadata": {},
   "source": [
    "# Predictor de Precios de Casas\n",
    "\n",
    "Este notebook te permite hacer predicciones de precios para casas nuevas usando un modelo ya entrenado.\n",
    "\n",
    "## ¿Cuándo usar este notebook?\n",
    "\n",
    "Usa este notebook cuando:\n",
    "- Ya tienes un modelo entrenado guardado\n",
    "- Quieres predecir precios de casas nuevas\n",
    "- Necesitas hacer predicciones en lote (múltiples casas a la vez)\n",
    "\n",
    "## Flujo de trabajo\n",
    "\n",
    "1. **Cargar modelo entrenado**: Usar el modelo guardado previamente\n",
    "2. **Preparar datos**: Crear un DataFrame con las características de las casas nuevas\n",
    "3. **Hacer predicciones**: Usar el modelo para estimar precios\n",
    "4. **Analizar resultados**: Revisar las predicciones obtenidas"
   ]
  },
  {
   "cell_type": "markdown",
   "metadata": {},
   "source": [
    "## 1. Importar librerías\n",
    "\n",
    "Importamos las librerías necesarias para:\n",
    "- **pandas**: Manejar los datos de las casas nuevas\n",
    "- **config**: Obtener la lista de features que espera el modelo"
   ]
  },
  {
   "cell_type": "code",
   "execution_count": 10,
   "metadata": {},
   "outputs": [],
   "source": [
    "import pandas as pd\n",
    "import sys\n",
    "import os\n",
    "\n",
    "# Añadir el directorio padre al path para poder importar config\n",
    "sys.path.append(os.path.dirname(os.path.dirname(os.path.abspath('__file__'))))\n",
    "from config import FEATURES"
   ]
  },
  {
   "cell_type": "markdown",
   "metadata": {},
   "source": [
    "## 2. Función de predicción\n",
    "\n",
    "### ¿Qué hace esta función?\n",
    "\n",
    "La función `predict_new_houses()` es muy versátil y acepta dos tipos de entrada:\n",
    "\n",
    "#### Opción 1: Lista de listas\n",
    "```python\n",
    "casas = [\n",
    "    [150, 3, 2, 10, 5],  # Casa 1\n",
    "    [200, 4, 3, 5, 3]    # Casa 2\n",
    "]\n",
    "```\n",
    "\n",
    "#### Opción 2: DataFrame de pandas\n",
    "```python\n",
    "casas = pd.DataFrame({\n",
    "    'tamano_m2': [150, 200],\n",
    "    'habitaciones': [3, 4],\n",
    "    'banos': [2, 3],\n",
    "    'edad_anos': [10, 5],\n",
    "    'distancia_centro_km': [5, 3]\n",
    "})\n",
    "```\n",
    "\n",
    "### Proceso interno:\n",
    "\n",
    "1. **Validación**: Convierte los datos a DataFrame si es necesario\n",
    "2. **Asegura orden correcto**: Usa las columnas definidas en FEATURES\n",
    "3. **Predice**: Aplica el modelo a cada casa\n",
    "4. **Formatea salida**: Muestra los precios en formato legible ($XXX,XXX.XX)\n",
    "\n",
    "### Importante:\n",
    "\n",
    "Los datos de entrada **DEBEN** tener las mismas características que los datos de entrenamiento:\n",
    "- Mismas columnas\n",
    "- Mismo orden\n",
    "- Mismas unidades (ej: metros cuadrados, no pies cuadrados)"
   ]
  },
  {
   "cell_type": "code",
   "execution_count": 19,
   "metadata": {},
   "outputs": [],
   "source": [
    "def predict_new_houses(modelo, casas_nuevas_data):\n",
    "    \"\"\"\n",
    "    Predice precios de casas nuevas\n",
    "    \n",
    "    Args:\n",
    "        modelo: Modelo entrenado\n",
    "        casas_nuevas_data: Lista de listas o DataFrame con las características\n",
    "    \n",
    "    Returns:\n",
    "        predicciones: Array con los precios predichos\n",
    "    \"\"\"\n",
    "    # Convertir a DataFrame si es necesario\n",
    "    if not isinstance(casas_nuevas_data, pd.DataFrame):\n",
    "        casas_nuevas = pd.DataFrame(casas_nuevas_data, columns=FEATURES)\n",
    "    else:\n",
    "        casas_nuevas = casas_nuevas_data\n",
    "    \n",
    "    print(\"\\n=== PREDICIENDO CASAS NUEVAS ===\")\n",
    "    print(casas_nuevas)\n",
    "    \n",
    "    predicciones = modelo.predict(casas_nuevas)\n",
    "    \n",
    "    print(\"\\nPredicciones:\")\n",
    "    for i, precio in enumerate(predicciones):\n",
    "        print(f\"Casa {i+1}: ${precio:,.2f}\")\n",
    "    \n",
    "    return predicciones"
   ]
  },
  {
   "cell_type": "markdown",
   "metadata": {},
   "source": [
    "## 3. Cargar el modelo entrenado\n",
    "\n",
    "Antes de hacer predicciones, necesitamos cargar el modelo que fue entrenado previamente.\n",
    "\n",
    "### Requisito previo:\n",
    "\n",
    "Debes haber ejecutado el notebook `model.ipynb` y guardado el modelo. Si no lo has hecho:\n",
    "1. Abre `model.ipynb`\n",
    "2. Ejecuta todas las celdas para entrenar el modelo\n",
    "3. Asegúrate de que se guardó correctamente el archivo `.pkl`"
   ]
  },
  {
   "cell_type": "code",
   "execution_count": 12,
   "metadata": {},
   "outputs": [
    {
     "name": "stdout",
     "output_type": "stream",
     "text": [
      "✓ Modelo cargado exitosamente desde: c:\\dev\\repos-deep-learning\\predictor-house\\models\\modelo_casas.pkl\n",
      "\n",
      "Características que espera el modelo: ['tamano_m2', 'habitaciones', 'banos', 'edad_anos', 'distancia_centro_km']\n"
     ]
    }
   ],
   "source": [
    "import pickle\n",
    "from config import MODEL_FILE\n",
    "\n",
    "# Cargar el modelo entrenado\n",
    "with open(MODEL_FILE, 'rb') as f:\n",
    "    modelo = pickle.load(f)\n",
    "\n",
    "print(f\"✓ Modelo cargado exitosamente desde: {MODEL_FILE}\")\n",
    "print(f\"\\nCaracterísticas que espera el modelo: {FEATURES}\")"
   ]
  },
  {
   "cell_type": "markdown",
   "metadata": {},
   "source": [
    "## 4. Ejemplo 1: Predicción de una sola casa\n",
    "\n",
    "### Escenario:\n",
    "\n",
    "Quieres saber el precio de una casa con estas características:\n",
    "- **Tamaño**: 150 m²\n",
    "- **Habitaciones**: 3\n",
    "- **Baños**: 2\n",
    "- **Antigüedad**: 10 años\n",
    "- **Distancia al centro**: 5 km"
   ]
  },
  {
   "cell_type": "code",
   "execution_count": 13,
   "metadata": {},
   "outputs": [
    {
     "name": "stdout",
     "output_type": "stream",
     "text": [
      "\n",
      "=== PREDICIENDO CASAS NUEVAS ===\n",
      "   tamano_m2  habitaciones  banos  edad_anos  distancia_centro_km\n",
      "0        150             3      2         10                    5\n",
      "\n",
      "Predicciones:\n",
      "Casa 1: $385,369.32\n",
      "\n",
      "📊 Resultado: La casa valdría aproximadamente $385,369.32\n"
     ]
    }
   ],
   "source": [
    "# Opción 1: Usando lista\n",
    "casa_nueva = [[150, 3, 2, 10, 5]]\n",
    "\n",
    "precio_predicho = predict_new_houses(modelo, casa_nueva)\n",
    "\n",
    "print(f\"\\n📊 Resultado: La casa valdría aproximadamente ${precio_predicho[0]:,.2f}\")"
   ]
  },
  {
   "cell_type": "code",
   "execution_count": 14,
   "metadata": {},
   "outputs": [
    {
     "name": "stdout",
     "output_type": "stream",
     "text": [
      "\n",
      "=== PREDICIENDO CASAS NUEVAS ===\n",
      "   tamano_m2  habitaciones  banos  edad_anos  distancia_centro_km\n",
      "0        150             3      2         10                    5\n",
      "\n",
      "Predicciones:\n",
      "Casa 1: $385,369.32\n",
      "\n",
      "📊 Resultado: La casa valdría aproximadamente $385,369.32\n"
     ]
    }
   ],
   "source": [
    "# Opción 2: Usando DataFrame (más legible)\n",
    "casa_nueva_df = pd.DataFrame({\n",
    "    'tamano_m2': [150],\n",
    "    'habitaciones': [3],\n",
    "    'banos': [2],\n",
    "    'edad_anos': [10],\n",
    "    'distancia_centro_km': [5]\n",
    "})\n",
    "\n",
    "precio_predicho = predict_new_houses(modelo, casa_nueva_df)\n",
    "\n",
    "print(f\"\\n📊 Resultado: La casa valdría aproximadamente ${precio_predicho[0]:,.2f}\")"
   ]
  },
  {
   "cell_type": "markdown",
   "metadata": {},
   "source": [
    "## 5. Ejemplo 2: Predicción en lote (múltiples casas)\n",
    "\n",
    "### Escenario:\n",
    "\n",
    "Una inmobiliaria quiere estimar precios para 5 casas diferentes de su catálogo.\n",
    "\n",
    "Esto es útil cuando:\n",
    "- Tienes múltiples propiedades para valorar\n",
    "- Quieres comparar precios de diferentes opciones\n",
    "- Necesitas procesar un catálogo completo"
   ]
  },
  {
   "cell_type": "code",
   "execution_count": 15,
   "metadata": {},
   "outputs": [
    {
     "name": "stdout",
     "output_type": "stream",
     "text": [
      "Casas a evaluar:\n",
      "   tamano_m2  habitaciones  banos  edad_anos  distancia_centro_km\n",
      "0        120             2      1         15                    8\n",
      "1        180             3      2          8                    4\n",
      "2        200             4      3          3                    2\n",
      "3         90             2      1         20                   10\n",
      "4        250             5      3          1                    1\n",
      "\n",
      "=== PREDICIENDO CASAS NUEVAS ===\n",
      "   tamano_m2  habitaciones  banos  edad_anos  distancia_centro_km\n",
      "0        120             2      1         15                    8\n",
      "1        180             3      2          8                    4\n",
      "2        200             4      3          3                    2\n",
      "3         90             2      1         20                   10\n",
      "4        250             5      3          1                    1\n",
      "\n",
      "Predicciones:\n",
      "Casa 1: $262,378.44\n",
      "Casa 2: $466,432.46\n",
      "Casa 3: $570,679.82\n",
      "Casa 4: $176,141.83\n",
      "Casa 5: $742,642.54\n"
     ]
    }
   ],
   "source": [
    "# Crear datos de múltiples casas\n",
    "varias_casas = pd.DataFrame({\n",
    "    'tamano_m2': [120, 180, 200, 90, 250],\n",
    "    'habitaciones': [2, 3, 4, 2, 5],\n",
    "    'banos': [1, 2, 3, 1, 3],\n",
    "    'edad_anos': [15, 8, 3, 20, 1],\n",
    "    'distancia_centro_km': [8, 4, 2, 10, 1]\n",
    "})\n",
    "\n",
    "print(\"Casas a evaluar:\")\n",
    "print(varias_casas)\n",
    "\n",
    "# Hacer predicciones\n",
    "precios = predict_new_houses(modelo, varias_casas)"
   ]
  },
  {
   "cell_type": "markdown",
   "metadata": {},
   "source": [
    "## 6. Análisis de resultados\n",
    "\n",
    "Podemos crear una tabla con los resultados para un análisis más fácil:"
   ]
  },
  {
   "cell_type": "code",
   "execution_count": 16,
   "metadata": {},
   "outputs": [
    {
     "name": "stdout",
     "output_type": "stream",
     "text": [
      "\n",
      "=== ANÁLISIS DE RESULTADOS ===\n",
      "   tamano_m2  habitaciones  banos  edad_anos  distancia_centro_km  \\\n",
      "0        120             2      1         15                    8   \n",
      "1        180             3      2          8                    4   \n",
      "2        200             4      3          3                    2   \n",
      "3         90             2      1         20                   10   \n",
      "4        250             5      3          1                    1   \n",
      "\n",
      "   precio_predicho  precio_por_m2  \n",
      "0    262378.436198    2186.486968  \n",
      "1    466432.456946    2591.291427  \n",
      "2    570679.817203    2853.399086  \n",
      "3    176141.831998    1957.131467  \n",
      "4    742642.539897    2970.570160  \n",
      "\n",
      "=== ESTADÍSTICAS ===\n",
      "Precio promedio: $443,655.02\n",
      "Precio mínimo: $176,141.83\n",
      "Precio máximo: $742,642.54\n",
      "\n",
      "Precio promedio por m²: $2,511.78/m²\n"
     ]
    }
   ],
   "source": [
    "# Añadir predicciones al DataFrame\n",
    "varias_casas['precio_predicho'] = precios\n",
    "\n",
    "# Calcular precio por m²\n",
    "varias_casas['precio_por_m2'] = varias_casas['precio_predicho'] / varias_casas['tamano_m2']\n",
    "\n",
    "print(\"\\n=== ANÁLISIS DE RESULTADOS ===\")\n",
    "print(varias_casas)\n",
    "\n",
    "print(\"\\n=== ESTADÍSTICAS ===\")\n",
    "print(f\"Precio promedio: ${varias_casas['precio_predicho'].mean():,.2f}\")\n",
    "print(f\"Precio mínimo: ${varias_casas['precio_predicho'].min():,.2f}\")\n",
    "print(f\"Precio máximo: ${varias_casas['precio_predicho'].max():,.2f}\")\n",
    "print(f\"\\nPrecio promedio por m²: ${varias_casas['precio_por_m2'].mean():,.2f}/m²\")"
   ]
  },
  {
   "cell_type": "markdown",
   "metadata": {},
   "source": [
    "## 7. Ejemplo 3: Comparar escenarios\n",
    "\n",
    "### ¿Cuánto vale más una casa renovada?\n",
    "\n",
    "Comparemos dos casas idénticas, pero una tiene 20 años y otra fue recién renovada (0 años):"
   ]
  },
  {
   "cell_type": "code",
   "execution_count": 17,
   "metadata": {},
   "outputs": [
    {
     "name": "stdout",
     "output_type": "stream",
     "text": [
      "\n",
      "=== PREDICIENDO CASAS NUEVAS ===\n",
      "               tamano_m2  habitaciones  banos  edad_anos  distancia_centro_km\n",
      "Casa antigua         150             3      2         20                    5\n",
      "Casa renovada        150             3      2          0                    5\n",
      "\n",
      "Predicciones:\n",
      "Casa 1: $341,394.95\n",
      "Casa 2: $429,343.69\n",
      "\n",
      "💡 INSIGHT:\n",
      "Una casa renovada vale $87,948.75 más (25.8% de incremento)\n",
      "\n",
      "Cada año de antigüedad reduce el precio en aproximadamente $4,397.44\n"
     ]
    }
   ],
   "source": [
    "comparacion = pd.DataFrame({\n",
    "    'tamano_m2': [150, 150],\n",
    "    'habitaciones': [3, 3],\n",
    "    'banos': [2, 2],\n",
    "    'edad_anos': [20, 0],  # Diferencia principal\n",
    "    'distancia_centro_km': [5, 5]\n",
    "}, index=['Casa antigua', 'Casa renovada'])\n",
    "\n",
    "precios_comparacion = predict_new_houses(modelo, comparacion)\n",
    "\n",
    "diferencia = precios_comparacion[1] - precios_comparacion[0]\n",
    "porcentaje = (diferencia / precios_comparacion[0]) * 100\n",
    "\n",
    "print(f\"\\n💡 INSIGHT:\")\n",
    "print(f\"Una casa renovada vale ${diferencia:,.2f} más ({porcentaje:.1f}% de incremento)\")\n",
    "print(f\"\\nCada año de antigüedad reduce el precio en aproximadamente ${diferencia/20:,.2f}\")"
   ]
  },
  {
   "cell_type": "markdown",
   "metadata": {},
   "source": [
    "## 8. Tu turno: Predice tus propias casas\n",
    "\n",
    "Usa esta celda para hacer tus propias predicciones:"
   ]
  },
  {
   "cell_type": "code",
   "execution_count": null,
   "metadata": {},
   "outputs": [
    {
     "ename": "SyntaxError",
     "evalue": "invalid syntax (2369390571.py, line 3)",
     "output_type": "error",
     "traceback": [
      "  \u001b[36mCell\u001b[39m\u001b[36m \u001b[39m\u001b[32mIn[18]\u001b[39m\u001b[32m, line 3\u001b[39m\n\u001b[31m    \u001b[39m\u001b[31m'tamano_m2': [???],              # Tamaño en metros cuadrados\u001b[39m\n                  ^\n\u001b[31mSyntaxError\u001b[39m\u001b[31m:\u001b[39m invalid syntax\n"
     ]
    }
   ],
   "source": [
    "# Modifica estos valores con las características de tu casa\n",
    "mi_casa = pd.DataFrame({\n",
    "    'tamano_m2': [\"???\"],              # Tamaño en metros cuadrados\n",
    "    'habitaciones': [\"???\"],           # Número de habitaciones\n",
    "    'banos': [\"???\"],                  # Número de baños\n",
    "    'edad_anos': [\"???\"],              # Antigüedad en años\n",
    "    'distancia_centro_km': [\"???\"]    # Distancia al centro en km\n",
    "})\n",
    "\n",
    "# Hacer predicción\n",
    "mi_precio = predict_new_houses(modelo, mi_casa)\n",
    "\n",
    "print(f\"\\n🏠 Tu casa valdría aproximadamente: ${mi_precio[0]:,.2f}\")"
   ]
  },
  {
   "cell_type": "markdown",
   "metadata": {},
   "source": [
    "## 9. Consejos y mejores prácticas\n",
    "\n",
    "### ✅ Buenas prácticas:\n",
    "\n",
    "1. **Validar datos de entrada**: Asegúrate de que los valores sean razonables\n",
    "   - Tamaño > 0\n",
    "   - Habitaciones ≥ 1\n",
    "   - Baños ≥ 1\n",
    "   - Edad ≥ 0\n",
    "\n",
    "2. **Mismo rango que entrenamiento**: El modelo funciona mejor con valores similares a los de entrenamiento\n",
    "   - Si entrenaste con casas de 50-300 m², evita predecir para 500 m²\n",
    "\n",
    "3. **Interpretar con cautela**: Recuerda que son estimaciones\n",
    "   - El modelo tiene un error promedio (MAE)\n",
    "   - Factores no incluidos pueden afectar el precio real (ubicación exacta, vistas, etc.)\n",
    "\n",
    "### ⚠️ Limitaciones:\n",
    "\n",
    "- El modelo solo considera las características numéricas entrenadas\n",
    "- No incluye factores como: vecindario específico, vistas, acabados de lujo, etc.\n",
    "- Es una **estimación estadística**, no un avalúo profesional"
   ]
  }
 ],
 "metadata": {
  "kernelspec": {
   "display_name": "deep-learning",
   "language": "python",
   "name": "deep-learning"
  },
  "language_info": {
   "codemirror_mode": {
    "name": "ipython",
    "version": 3
   },
   "file_extension": ".py",
   "mimetype": "text/x-python",
   "name": "python",
   "nbconvert_exporter": "python",
   "pygments_lexer": "ipython3",
   "version": "3.13.5"
  }
 },
 "nbformat": 4,
 "nbformat_minor": 4
}
