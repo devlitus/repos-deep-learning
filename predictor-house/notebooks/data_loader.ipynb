{
 "cells": [
  {
   "cell_type": "markdown",
   "metadata": {},
   "source": [
    "# Data Loader - Predictor de Precios de Casas\n",
    "\n",
    "Este notebook contiene las funciones para cargar, explorar y preparar los datos del proyecto."
   ]
  },
  {
   "cell_type": "markdown",
   "metadata": {},
   "source": [
    "## 1. Importar librerías"
   ]
  },
  {
   "cell_type": "code",
   "execution_count": 1,
   "metadata": {},
   "outputs": [],
   "source": [
    "import pandas as pd\n",
    "import sys\n",
    "import os\n",
    "\n",
    "# Agregar el directorio padre al path para importar config\n",
    "sys.path.append(os.path.abspath('..'))\n",
    "\n",
    "from config import RAW_DATA_FILE, FEATURES, TARGET"
   ]
  },
  {
   "cell_type": "markdown",
   "metadata": {},
   "source": [
    "## 2. Cargar datos"
   ]
  },
  {
   "cell_type": "code",
   "execution_count": 2,
   "metadata": {},
   "outputs": [],
   "source": [
    "def load_data():\n",
    "    \"\"\"Carga los datos desde el CSV\"\"\"\n",
    "    print(\"Cargando datos...\")\n",
    "    df = pd.read_csv(RAW_DATA_FILE)\n",
    "    df.columns = df.columns.str.strip()\n",
    "    print(f\"✓ Datos cargados: {df.shape[0]} filas, {df.shape[1]} columnas\")\n",
    "    return df"
   ]
  },
  {
   "cell_type": "code",
   "execution_count": 3,
   "metadata": {},
   "outputs": [
    {
     "name": "stdout",
     "output_type": "stream",
     "text": [
      "Cargando datos...\n",
      "✓ Datos cargados: 20 filas, 6 columnas\n"
     ]
    },
    {
     "data": {
      "text/html": [
       "<div>\n",
       "<style scoped>\n",
       "    .dataframe tbody tr th:only-of-type {\n",
       "        vertical-align: middle;\n",
       "    }\n",
       "\n",
       "    .dataframe tbody tr th {\n",
       "        vertical-align: top;\n",
       "    }\n",
       "\n",
       "    .dataframe thead th {\n",
       "        text-align: right;\n",
       "    }\n",
       "</style>\n",
       "<table border=\"1\" class=\"dataframe\">\n",
       "  <thead>\n",
       "    <tr style=\"text-align: right;\">\n",
       "      <th></th>\n",
       "      <th>tamano_m2</th>\n",
       "      <th>habitaciones</th>\n",
       "      <th>banos</th>\n",
       "      <th>edad_anos</th>\n",
       "      <th>distancia_centro_km</th>\n",
       "      <th>precio</th>\n",
       "    </tr>\n",
       "  </thead>\n",
       "  <tbody>\n",
       "    <tr>\n",
       "      <th>0</th>\n",
       "      <td>85</td>\n",
       "      <td>2</td>\n",
       "      <td>1</td>\n",
       "      <td>15</td>\n",
       "      <td>8.5</td>\n",
       "      <td>180000</td>\n",
       "    </tr>\n",
       "    <tr>\n",
       "      <th>1</th>\n",
       "      <td>120</td>\n",
       "      <td>3</td>\n",
       "      <td>2</td>\n",
       "      <td>5</td>\n",
       "      <td>3.2</td>\n",
       "      <td>320000</td>\n",
       "    </tr>\n",
       "    <tr>\n",
       "      <th>2</th>\n",
       "      <td>95</td>\n",
       "      <td>2</td>\n",
       "      <td>1</td>\n",
       "      <td>20</td>\n",
       "      <td>12.0</td>\n",
       "      <td>195000</td>\n",
       "    </tr>\n",
       "    <tr>\n",
       "      <th>3</th>\n",
       "      <td>150</td>\n",
       "      <td>4</td>\n",
       "      <td>3</td>\n",
       "      <td>2</td>\n",
       "      <td>2.5</td>\n",
       "      <td>450000</td>\n",
       "    </tr>\n",
       "    <tr>\n",
       "      <th>4</th>\n",
       "      <td>110</td>\n",
       "      <td>3</td>\n",
       "      <td>2</td>\n",
       "      <td>10</td>\n",
       "      <td>5.8</td>\n",
       "      <td>280000</td>\n",
       "    </tr>\n",
       "  </tbody>\n",
       "</table>\n",
       "</div>"
      ],
      "text/plain": [
       "   tamano_m2  habitaciones  banos  edad_anos  distancia_centro_km  precio\n",
       "0         85             2      1         15                  8.5  180000\n",
       "1        120             3      2          5                  3.2  320000\n",
       "2         95             2      1         20                 12.0  195000\n",
       "3        150             4      3          2                  2.5  450000\n",
       "4        110             3      2         10                  5.8  280000"
      ]
     },
     "execution_count": 3,
     "metadata": {},
     "output_type": "execute_result"
    }
   ],
   "source": [
    "# Cargar los datos\n",
    "df = load_data()\n",
    "df.head()"
   ]
  },
  {
   "cell_type": "markdown",
   "metadata": {},
   "source": [
    "## 3. Explorar datos"
   ]
  },
  {
   "cell_type": "code",
   "execution_count": 4,
   "metadata": {},
   "outputs": [],
   "source": [
    "def explore_data(df):\n",
    "    \"\"\"Muestra información básica del dataset\"\"\"\n",
    "    print(\"\\n=== EXPLORACIÓN DE DATOS ===\")\n",
    "    print(\"\\nPrimeras filas:\")\n",
    "    print(df.head())\n",
    "    \n",
    "    print(\"\\nInformación:\")\n",
    "    print(df.info())\n",
    "    \n",
    "    print(\"\\nEstadísticas:\")\n",
    "    print(df.describe())\n",
    "    \n",
    "    print(\"\\nValores faltantes:\")\n",
    "    print(df.isnull().sum())\n",
    "    \n",
    "    return df"
   ]
  },
  {
   "cell_type": "code",
   "execution_count": 5,
   "metadata": {},
   "outputs": [
    {
     "name": "stdout",
     "output_type": "stream",
     "text": [
      "\n",
      "=== EXPLORACIÓN DE DATOS ===\n",
      "\n",
      "Primeras filas:\n",
      "   tamano_m2  habitaciones  banos  edad_anos  distancia_centro_km  precio\n",
      "0         85             2      1         15                  8.5  180000\n",
      "1        120             3      2          5                  3.2  320000\n",
      "2         95             2      1         20                 12.0  195000\n",
      "3        150             4      3          2                  2.5  450000\n",
      "4        110             3      2         10                  5.8  280000\n",
      "\n",
      "Información:\n",
      "<class 'pandas.core.frame.DataFrame'>\n",
      "RangeIndex: 20 entries, 0 to 19\n",
      "Data columns (total 6 columns):\n",
      " #   Column               Non-Null Count  Dtype  \n",
      "---  ------               --------------  -----  \n",
      " 0   tamano_m2            20 non-null     int64  \n",
      " 1   habitaciones         20 non-null     int64  \n",
      " 2   banos                20 non-null     int64  \n",
      " 3   edad_anos            20 non-null     int64  \n",
      " 4   distancia_centro_km  20 non-null     float64\n",
      " 5   precio               20 non-null     int64  \n",
      "dtypes: float64(1), int64(5)\n",
      "memory usage: 1.1 KB\n",
      "None\n",
      "\n",
      "Estadísticas:\n",
      "       tamano_m2  habitaciones      banos  edad_anos  distancia_centro_km  \\\n",
      "count   20.00000     20.000000  20.000000  20.000000            20.000000   \n",
      "mean   121.00000      2.950000   2.050000  11.450000             6.890000   \n",
      "std     38.58006      1.050063   0.887041   8.338086             4.729182   \n",
      "min     70.00000      1.000000   1.000000   1.000000             1.800000   \n",
      "25%     93.75000      2.000000   1.000000   4.750000             3.100000   \n",
      "50%    112.50000      3.000000   2.000000   9.500000             5.650000   \n",
      "75%    142.50000      3.250000   3.000000  16.500000             9.400000   \n",
      "max    200.00000      5.000000   4.000000  30.000000            18.000000   \n",
      "\n",
      "              precio  \n",
      "count      20.000000  \n",
      "mean   317500.000000  \n",
      "std    144663.857196  \n",
      "min    145000.000000  \n",
      "25%    192500.000000  \n",
      "50%    287500.000000  \n",
      "75%    390000.000000  \n",
      "max    620000.000000  \n",
      "\n",
      "Valores faltantes:\n",
      "tamano_m2              0\n",
      "habitaciones           0\n",
      "banos                  0\n",
      "edad_anos              0\n",
      "distancia_centro_km    0\n",
      "precio                 0\n",
      "dtype: int64\n"
     ]
    }
   ],
   "source": [
    "# Explorar los datos\n",
    "df = explore_data(df)"
   ]
  },
  {
   "cell_type": "markdown",
   "metadata": {},
   "source": [
    "### Información detallada del DataFrame"
   ]
  },
  {
   "cell_type": "code",
   "execution_count": 6,
   "metadata": {},
   "outputs": [
    {
     "name": "stdout",
     "output_type": "stream",
     "text": [
      "<class 'pandas.core.frame.DataFrame'>\n",
      "RangeIndex: 20 entries, 0 to 19\n",
      "Data columns (total 6 columns):\n",
      " #   Column               Non-Null Count  Dtype  \n",
      "---  ------               --------------  -----  \n",
      " 0   tamano_m2            20 non-null     int64  \n",
      " 1   habitaciones         20 non-null     int64  \n",
      " 2   banos                20 non-null     int64  \n",
      " 3   edad_anos            20 non-null     int64  \n",
      " 4   distancia_centro_km  20 non-null     float64\n",
      " 5   precio               20 non-null     int64  \n",
      "dtypes: float64(1), int64(5)\n",
      "memory usage: 1.1 KB\n"
     ]
    }
   ],
   "source": [
    "# Información del DataFrame\n",
    "df.info()"
   ]
  },
  {
   "cell_type": "markdown",
   "metadata": {},
   "source": [
    "### Estadísticas descriptivas"
   ]
  },
  {
   "cell_type": "code",
   "execution_count": 7,
   "metadata": {},
   "outputs": [
    {
     "data": {
      "text/html": [
       "<div>\n",
       "<style scoped>\n",
       "    .dataframe tbody tr th:only-of-type {\n",
       "        vertical-align: middle;\n",
       "    }\n",
       "\n",
       "    .dataframe tbody tr th {\n",
       "        vertical-align: top;\n",
       "    }\n",
       "\n",
       "    .dataframe thead th {\n",
       "        text-align: right;\n",
       "    }\n",
       "</style>\n",
       "<table border=\"1\" class=\"dataframe\">\n",
       "  <thead>\n",
       "    <tr style=\"text-align: right;\">\n",
       "      <th></th>\n",
       "      <th>tamano_m2</th>\n",
       "      <th>habitaciones</th>\n",
       "      <th>banos</th>\n",
       "      <th>edad_anos</th>\n",
       "      <th>distancia_centro_km</th>\n",
       "      <th>precio</th>\n",
       "    </tr>\n",
       "  </thead>\n",
       "  <tbody>\n",
       "    <tr>\n",
       "      <th>count</th>\n",
       "      <td>20.00000</td>\n",
       "      <td>20.000000</td>\n",
       "      <td>20.000000</td>\n",
       "      <td>20.000000</td>\n",
       "      <td>20.000000</td>\n",
       "      <td>20.000000</td>\n",
       "    </tr>\n",
       "    <tr>\n",
       "      <th>mean</th>\n",
       "      <td>121.00000</td>\n",
       "      <td>2.950000</td>\n",
       "      <td>2.050000</td>\n",
       "      <td>11.450000</td>\n",
       "      <td>6.890000</td>\n",
       "      <td>317500.000000</td>\n",
       "    </tr>\n",
       "    <tr>\n",
       "      <th>std</th>\n",
       "      <td>38.58006</td>\n",
       "      <td>1.050063</td>\n",
       "      <td>0.887041</td>\n",
       "      <td>8.338086</td>\n",
       "      <td>4.729182</td>\n",
       "      <td>144663.857196</td>\n",
       "    </tr>\n",
       "    <tr>\n",
       "      <th>min</th>\n",
       "      <td>70.00000</td>\n",
       "      <td>1.000000</td>\n",
       "      <td>1.000000</td>\n",
       "      <td>1.000000</td>\n",
       "      <td>1.800000</td>\n",
       "      <td>145000.000000</td>\n",
       "    </tr>\n",
       "    <tr>\n",
       "      <th>25%</th>\n",
       "      <td>93.75000</td>\n",
       "      <td>2.000000</td>\n",
       "      <td>1.000000</td>\n",
       "      <td>4.750000</td>\n",
       "      <td>3.100000</td>\n",
       "      <td>192500.000000</td>\n",
       "    </tr>\n",
       "    <tr>\n",
       "      <th>50%</th>\n",
       "      <td>112.50000</td>\n",
       "      <td>3.000000</td>\n",
       "      <td>2.000000</td>\n",
       "      <td>9.500000</td>\n",
       "      <td>5.650000</td>\n",
       "      <td>287500.000000</td>\n",
       "    </tr>\n",
       "    <tr>\n",
       "      <th>75%</th>\n",
       "      <td>142.50000</td>\n",
       "      <td>3.250000</td>\n",
       "      <td>3.000000</td>\n",
       "      <td>16.500000</td>\n",
       "      <td>9.400000</td>\n",
       "      <td>390000.000000</td>\n",
       "    </tr>\n",
       "    <tr>\n",
       "      <th>max</th>\n",
       "      <td>200.00000</td>\n",
       "      <td>5.000000</td>\n",
       "      <td>4.000000</td>\n",
       "      <td>30.000000</td>\n",
       "      <td>18.000000</td>\n",
       "      <td>620000.000000</td>\n",
       "    </tr>\n",
       "  </tbody>\n",
       "</table>\n",
       "</div>"
      ],
      "text/plain": [
       "       tamano_m2  habitaciones      banos  edad_anos  distancia_centro_km  \\\n",
       "count   20.00000     20.000000  20.000000  20.000000            20.000000   \n",
       "mean   121.00000      2.950000   2.050000  11.450000             6.890000   \n",
       "std     38.58006      1.050063   0.887041   8.338086             4.729182   \n",
       "min     70.00000      1.000000   1.000000   1.000000             1.800000   \n",
       "25%     93.75000      2.000000   1.000000   4.750000             3.100000   \n",
       "50%    112.50000      3.000000   2.000000   9.500000             5.650000   \n",
       "75%    142.50000      3.250000   3.000000  16.500000             9.400000   \n",
       "max    200.00000      5.000000   4.000000  30.000000            18.000000   \n",
       "\n",
       "              precio  \n",
       "count      20.000000  \n",
       "mean   317500.000000  \n",
       "std    144663.857196  \n",
       "min    145000.000000  \n",
       "25%    192500.000000  \n",
       "50%    287500.000000  \n",
       "75%    390000.000000  \n",
       "max    620000.000000  "
      ]
     },
     "execution_count": 7,
     "metadata": {},
     "output_type": "execute_result"
    }
   ],
   "source": [
    "# Estadísticas descriptivas\n",
    "df.describe()"
   ]
  },
  {
   "cell_type": "markdown",
   "metadata": {},
   "source": [
    "### Verificar valores faltantes"
   ]
  },
  {
   "cell_type": "code",
   "execution_count": 8,
   "metadata": {},
   "outputs": [
    {
     "name": "stdout",
     "output_type": "stream",
     "text": [
      "Valores faltantes por columna:\n",
      "tamano_m2              0\n",
      "habitaciones           0\n",
      "banos                  0\n",
      "edad_anos              0\n",
      "distancia_centro_km    0\n",
      "precio                 0\n",
      "dtype: int64\n",
      "\n",
      "Total de valores faltantes: 0\n"
     ]
    }
   ],
   "source": [
    "# Valores faltantes\n",
    "print(\"Valores faltantes por columna:\")\n",
    "print(df.isnull().sum())\n",
    "print(f\"\\nTotal de valores faltantes: {df.isnull().sum().sum()}\")"
   ]
  },
  {
   "cell_type": "markdown",
   "metadata": {},
   "source": [
    "## 4. Preparar datos"
   ]
  },
  {
   "cell_type": "code",
   "execution_count": 9,
   "metadata": {},
   "outputs": [],
   "source": [
    "def prepare_data(df):\n",
    "    \"\"\"Separa características (X) y objetivo (y)\"\"\"\n",
    "    X = df[FEATURES]\n",
    "    y = df[TARGET]\n",
    "    return X, y"
   ]
  },
  {
   "cell_type": "code",
   "execution_count": 10,
   "metadata": {},
   "outputs": [
    {
     "name": "stdout",
     "output_type": "stream",
     "text": [
      "Características (X): (20, 5)\n",
      "Objetivo (y): (20,)\n"
     ]
    }
   ],
   "source": [
    "# Preparar los datos\n",
    "X, y = prepare_data(df)\n",
    "\n",
    "print(f\"Características (X): {X.shape}\")\n",
    "print(f\"Objetivo (y): {y.shape}\")"
   ]
  },
  {
   "cell_type": "markdown",
   "metadata": {},
   "source": [
    "### Visualizar características"
   ]
  },
  {
   "cell_type": "code",
   "execution_count": 11,
   "metadata": {},
   "outputs": [
    {
     "data": {
      "text/html": [
       "<div>\n",
       "<style scoped>\n",
       "    .dataframe tbody tr th:only-of-type {\n",
       "        vertical-align: middle;\n",
       "    }\n",
       "\n",
       "    .dataframe tbody tr th {\n",
       "        vertical-align: top;\n",
       "    }\n",
       "\n",
       "    .dataframe thead th {\n",
       "        text-align: right;\n",
       "    }\n",
       "</style>\n",
       "<table border=\"1\" class=\"dataframe\">\n",
       "  <thead>\n",
       "    <tr style=\"text-align: right;\">\n",
       "      <th></th>\n",
       "      <th>tamano_m2</th>\n",
       "      <th>habitaciones</th>\n",
       "      <th>banos</th>\n",
       "      <th>edad_anos</th>\n",
       "      <th>distancia_centro_km</th>\n",
       "    </tr>\n",
       "  </thead>\n",
       "  <tbody>\n",
       "    <tr>\n",
       "      <th>0</th>\n",
       "      <td>85</td>\n",
       "      <td>2</td>\n",
       "      <td>1</td>\n",
       "      <td>15</td>\n",
       "      <td>8.5</td>\n",
       "    </tr>\n",
       "    <tr>\n",
       "      <th>1</th>\n",
       "      <td>120</td>\n",
       "      <td>3</td>\n",
       "      <td>2</td>\n",
       "      <td>5</td>\n",
       "      <td>3.2</td>\n",
       "    </tr>\n",
       "    <tr>\n",
       "      <th>2</th>\n",
       "      <td>95</td>\n",
       "      <td>2</td>\n",
       "      <td>1</td>\n",
       "      <td>20</td>\n",
       "      <td>12.0</td>\n",
       "    </tr>\n",
       "    <tr>\n",
       "      <th>3</th>\n",
       "      <td>150</td>\n",
       "      <td>4</td>\n",
       "      <td>3</td>\n",
       "      <td>2</td>\n",
       "      <td>2.5</td>\n",
       "    </tr>\n",
       "    <tr>\n",
       "      <th>4</th>\n",
       "      <td>110</td>\n",
       "      <td>3</td>\n",
       "      <td>2</td>\n",
       "      <td>10</td>\n",
       "      <td>5.8</td>\n",
       "    </tr>\n",
       "  </tbody>\n",
       "</table>\n",
       "</div>"
      ],
      "text/plain": [
       "   tamano_m2  habitaciones  banos  edad_anos  distancia_centro_km\n",
       "0         85             2      1         15                  8.5\n",
       "1        120             3      2          5                  3.2\n",
       "2         95             2      1         20                 12.0\n",
       "3        150             4      3          2                  2.5\n",
       "4        110             3      2         10                  5.8"
      ]
     },
     "execution_count": 11,
     "metadata": {},
     "output_type": "execute_result"
    }
   ],
   "source": [
    "# Mostrar las primeras filas de las características\n",
    "X.head()"
   ]
  },
  {
   "cell_type": "markdown",
   "metadata": {},
   "source": [
    "### Visualizar objetivo"
   ]
  },
  {
   "cell_type": "code",
   "execution_count": 12,
   "metadata": {},
   "outputs": [
    {
     "data": {
      "text/plain": [
       "0    180000\n",
       "1    320000\n",
       "2    195000\n",
       "3    450000\n",
       "4    280000\n",
       "Name: precio, dtype: int64"
      ]
     },
     "execution_count": 12,
     "metadata": {},
     "output_type": "execute_result"
    }
   ],
   "source": [
    "# Mostrar las primeras filas del objetivo\n",
    "y.head()"
   ]
  },
  {
   "cell_type": "markdown",
   "metadata": {},
   "source": [
    "## 5. Análisis adicional"
   ]
  },
  {
   "cell_type": "code",
   "execution_count": 13,
   "metadata": {},
   "outputs": [
    {
     "data": {
      "image/png": "[encoded data removed]",
      "text/plain": [
       "<Figure size 1000x600 with 2 Axes>"
      ]
     },
     "metadata": {},
     "output_type": "display_data"
    }
   ],
   "source": [
    "# Correlación entre características y el objetivo\n",
    "import matplotlib.pyplot as plt\n",
    "import seaborn as sns\n",
    "\n",
    "plt.figure(figsize=(10, 6))\n",
    "correlation = df[FEATURES + [TARGET]].corr()\n",
    "sns.heatmap(correlation, annot=True, cmap='coolwarm', center=0)\n",
    "plt.title('Matriz de Correlación')\n",
    "plt.tight_layout()\n",
    "plt.show()"
   ]
  },
  {
   "cell_type": "code",
   "execution_count": 14,
   "metadata": {},
   "outputs": [
    {
     "data": {
      "image/png": "[encoded data removed]",
      "text/plain": [
       "<Figure size 1000x600 with 1 Axes>"
      ]
     },
     "metadata": {},
     "output_type": "display_data"
    }
   ],
   "source": [
    "# Distribución del precio (objetivo)\n",
    "plt.figure(figsize=(10, 6))\n",
    "plt.hist(y, bins=30, edgecolor='black')\n",
    "plt.xlabel('Precio')\n",
    "plt.ylabel('Frecuencia')\n",
    "plt.title('Distribución del Precio de las Casas')\n",
    "plt.tight_layout()\n",
    "plt.show()"
   ]
  }
 ],
 "metadata": {
  "kernelspec": {
   "display_name": "deep-learning",
   "language": "python",
   "name": "deep-learning"
  },
  "language_info": {
   "codemirror_mode": {
    "name": "ipython",
    "version": 3
   },
   "file_extension": ".py",
   "mimetype": "text/x-python",
   "name": "python",
   "nbconvert_exporter": "python",
   "pygments_lexer": "ipython3",
   "version": "3.13.5"
  }
 },
 "nbformat": 4,
 "nbformat_minor": 4
}
